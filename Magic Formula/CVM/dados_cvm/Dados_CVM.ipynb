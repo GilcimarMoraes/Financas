{
 "cells": [
  {
   "cell_type": "code",
   "execution_count": null,
   "metadata": {},
   "outputs": [],
   "source": [
    "import pandas as pd\n",
    "import wget\n",
    "from zipfile import ZipFile\n",
    "import os"
   ]
  },
  {
   "cell_type": "code",
   "execution_count": null,
   "metadata": {},
   "outputs": [],
   "source": [
    "# Armazena o diretório atual\n",
    "diretorio_atual = os.getcwd()\n",
    "\n",
    "# Muda para o diretório onde serão armazenados os arquivos baixados\n",
    "os.chdir(f'{diretorio_atual}/dados_cvm')\n",
    "\n",
    "# URL onde os arquivos ZIP estão localizados\n",
    "url = 'https://dados.cvm.gov.br/dados/CIA_ABERTA/DOC/ITR/DADOS/'"
   ]
  },
  {
   "cell_type": "code",
   "execution_count": null,
   "metadata": {},
   "outputs": [],
   "source": [
    "# Lista dos arquivos ZIP a serem baixados, de 2013 a 2023\n",
    "dados_cvm = []\n",
    "anos = range(2013, 2024)\n",
    "\n",
    "for ano in anos:\n",
    "    dados_cvm.append(f'itr_cia_aberta_{ano}.zip')"
   ]
  },
  {
   "cell_type": "code",
   "execution_count": null,
   "metadata": {},
   "outputs": [],
   "source": [
    "# Baixa os arquivos ZIP\n",
    "for i in dados_cvm:\n",
    "    wget.download(url + i)"
   ]
  },
  {
   "cell_type": "code",
   "execution_count": null,
   "metadata": {},
   "outputs": [],
   "source": [
    "# Extrai os arquivos ZIP baixados\n",
    "for i in dados_cvm:\n",
    "    ZipFile(i, 'r').extractall('ITR')"
   ]
  },
  {
   "cell_type": "code",
   "execution_count": null,
   "metadata": {},
   "outputs": [],
   "source": [
    "# Lista dos nomes dos arquivos CSV a serem unificados\n",
    "nomes = ['BPA_con', 'BPA_ind', 'BPP_con', 'BPP_ind', 'DFC_MD_con', 'DFC_MD_ind', 'DFC_MI_con', 'DFC_MI_ind', 'DMPL_con', 'DMPL_ind', 'DRE_con', 'DRE_ind', 'DVA_con', 'DVA_ind']\n",
    "\n",
    "# Itera sobre cada nome de arquivo para unificar os dados\n",
    "for nome in nomes:\n",
    "    arquivo = pd.DataFrame()\n",
    "    # Itera sobre cada ano para ler os dados de cada arquivo CSV e unificá-los\n",
    "    for ano in anos:\n",
    "        # Caminho do arquivo CSV para o ano e nome especificados\n",
    "        caminho = 'ITR\\itr_cia_aberta_{}_{}.csv'.format(nome, ano)\n",
    "        # Lê o arquivo CSV e adiciona ao DataFrame 'arquivo'\n",
    "        arquivo = pd.concat([arquivo, pd.read_csv(caminho, sep=';', decimal=',', encoding='ISO-8859-1')])\n",
    "    \n",
    "    # Salva o DataFrame unificado como um novo arquivo CSV\n",
    "    arquivo.to_csv(f'Dados_unificados/itr_cia_aberta_{nome}_2013-2023.csv', index=False)\n"
   ]
  }
 ],
 "metadata": {
  "language_info": {
   "name": "python"
  }
 },
 "nbformat": 4,
 "nbformat_minor": 2
}
